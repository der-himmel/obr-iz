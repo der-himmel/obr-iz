{
  "nbformat": 4,
  "nbformat_minor": 0,
  "metadata": {
    "colab": {
      "provenance": [],
      "include_colab_link": true
    },
    "kernelspec": {
      "name": "python3",
      "display_name": "Python 3"
    },
    "language_info": {
      "name": "python"
    }
  },
  "cells": [
    {
      "cell_type": "markdown",
      "metadata": {
        "id": "view-in-github",
        "colab_type": "text"
      },
      "source": [
        "<a href=\"https://colab.research.google.com/github/der-himmel/obr-iz/blob/main/%D0%9F%D1%80%D0%B0%D0%BA%D1%82%D0%B8%D1%87%D0%B5%D1%81%D0%BA%D0%BE%D0%B5_%D0%B7%D0%B0%D0%BD%D1%8F%D1%82%D0%B8%D0%B5_%E2%84%965.ipynb\" target=\"_parent\"><img src=\"https://colab.research.google.com/assets/colab-badge.svg\" alt=\"Open In Colab\"/></a>"
      ]
    },
    {
      "cell_type": "code",
      "source": [
        "import torch\n",
        "import torch.nn as nn\n",
        "import torch.nn.functional as F\n",
        "\n",
        "\n",
        "class SimpleConvNet(nn.Module):\n",
        "    def __init__(self):\n",
        "        super(SimpleConvNet, self).__init__()\n",
        "        self.conv1 = nn.Conv2d(in_channels=3, out_channels=1, kernel_size=9)\n",
        "        self.pool = nn.MaxPool2d(kernel_size=4, stride=2)\n",
        "        self.fc1 = nn.Linear(in_features=121, out_features=10)\n",
        "\n",
        "    def forward(self, x):\n",
        "        x = self.pool(F.relu(self.conv1(x)))\n",
        "\n",
        "        x = torch.flatten(x, 1)\n",
        "\n",
        "        x = self.fc1(x)\n",
        "\n",
        "        return x\n",
        "\n",
        "\n",
        "net = SimpleConvNet()\n",
        "print(net)"
      ],
      "metadata": {
        "id": "timVyd8L6Rv4",
        "colab": {
          "base_uri": "https://localhost:8080/"
        },
        "outputId": "a1741ffa-31e8-4a81-891f-d5c1a6c2569a"
      },
      "execution_count": 18,
      "outputs": [
        {
          "output_type": "stream",
          "name": "stdout",
          "text": [
            "SimpleConvNet(\n",
            "  (conv1): Conv2d(3, 1, kernel_size=(9, 9), stride=(1, 1))\n",
            "  (pool): MaxPool2d(kernel_size=4, stride=2, padding=0, dilation=1, ceil_mode=False)\n",
            "  (fc1): Linear(in_features=121, out_features=10, bias=True)\n",
            ")\n"
          ]
        }
      ]
    },
    {
      "cell_type": "code",
      "source": [
        "import torch\n",
        "import torch.nn as nn\n",
        "import torch.nn.functional as F\n",
        "\n",
        "\n",
        "class BetterNet(nn.Module):\n",
        "    def __init__(self):\n",
        "        super(BetterNet, self).__init__()\n",
        "        self.fc1 = nn.Linear(32*32*3, 256)\n",
        "        self.relu1 = nn.ReLU()\n",
        "        self.fc2 = nn.Linear(256, 128)\n",
        "        self.relu2 = nn.ReLU()\n",
        "        self.fc3 = nn.Linear(128, 10)\n",
        "\n",
        "    def forward(self, x):\n",
        "        x = torch.flatten(x, 1)\n",
        "        x = self.fc1(x)\n",
        "        x = self.relu1(x)\n",
        "        x = self.fc2(x)\n",
        "        x = self.relu2(x)\n",
        "        x = self.fc3(x)\n",
        "        return x\n",
        "\n",
        "\n",
        "net = BetterNet()\n",
        "print(net)"
      ],
      "metadata": {
        "colab": {
          "base_uri": "https://localhost:8080/"
        },
        "id": "PjF8ZRHR597c",
        "outputId": "a7be4e33-8212-4686-c398-4a662b47f947"
      },
      "execution_count": 1,
      "outputs": [
        {
          "output_type": "stream",
          "name": "stdout",
          "text": [
            "BetterNet(\n",
            "  (fc1): Linear(in_features=3072, out_features=256, bias=True)\n",
            "  (relu1): ReLU()\n",
            "  (fc2): Linear(in_features=256, out_features=128, bias=True)\n",
            "  (relu2): ReLU()\n",
            "  (fc3): Linear(in_features=128, out_features=10, bias=True)\n",
            ")\n"
          ]
        }
      ]
    },
    {
      "cell_type": "code",
      "source": [
        "import torch\n",
        "import torch.nn as nn\n",
        "import torch.nn.functional as F\n",
        "\n",
        "class BetterConvNet(nn.Module):\n",
        "    def __init__(self):\n",
        "        super(ImprovedConvNet, self).__init__()\n",
        "        self.conv1 = nn.Conv2d(in_channels=3, out_channels=32, kernel_size=3, padding=1)  # 32 фильтра 3x3\n",
        "        self.bn1 = nn.BatchNorm2d(32)\n",
        "        self.conv2 = nn.Conv2d(32, 64, kernel_size=3, padding=1)  # 64 фильтра 3x3\n",
        "        self.bn2 = nn.BatchNorm2d(64)\n",
        "        self.pool = nn.MaxPool2d(kernel_size=2, stride=2)\n",
        "        self.dropout = nn.Dropout(0.5)  # Dropout для предотвращения переобучения\n",
        "        self.fc1 = nn.Linear(64 * 8 * 8, 512)  # Увеличение количества нейронов\n",
        "        self.fc2 = nn.Linear(512, 10)  # Выходной слой\n",
        "\n",
        "    def forward(self, x):\n",
        "        x = self.pool(F.relu(self.bn1(self.conv1(x))))\n",
        "        x = self.pool(F.relu(self.bn2(self.conv2(x))))\n",
        "        x = self.dropout(x)  # Применение Dropout\n",
        "\n",
        "        x = torch.flatten(x, 1)\n",
        "        x = F.relu(self.fc1(x))\n",
        "        x = self.fc2(x)\n",
        "\n",
        "        return x\n",
        "\n",
        "net = BetterConvNet()\n",
        "print(net)"
      ],
      "metadata": {
        "id": "meoEVI9YtQDF"
      },
      "execution_count": null,
      "outputs": []
    },
    {
      "cell_type": "code",
      "source": [
        "example = torch.rand(1, 3, 32, 32)\n",
        "net(example).shape\n",
        "print(example)"
      ],
      "metadata": {
        "id": "wOLjqmCT6Tsz",
        "colab": {
          "base_uri": "https://localhost:8080/"
        },
        "outputId": "2c055961-850e-4353-cdd1-04628f0fbd6d"
      },
      "execution_count": 19,
      "outputs": [
        {
          "output_type": "stream",
          "name": "stdout",
          "text": [
            "tensor([[[[0.4423, 0.9187, 0.0619,  ..., 0.2886, 0.2942, 0.5359],\n",
            "          [0.5419, 0.5213, 0.5999,  ..., 0.1261, 0.7447, 0.3363],\n",
            "          [0.7134, 0.7640, 0.6113,  ..., 0.3683, 0.0028, 0.3152],\n",
            "          ...,\n",
            "          [0.0528, 0.1377, 0.7708,  ..., 0.4624, 0.8328, 0.9217],\n",
            "          [0.5358, 0.1862, 0.6466,  ..., 0.7010, 0.8489, 0.3700],\n",
            "          [0.4785, 0.4881, 0.2622,  ..., 0.4403, 0.4457, 0.6940]],\n",
            "\n",
            "         [[0.2054, 0.9810, 0.5026,  ..., 0.6226, 0.8317, 0.9694],\n",
            "          [0.4894, 0.7173, 0.0939,  ..., 0.5416, 0.4975, 0.4014],\n",
            "          [0.6059, 0.9305, 0.2608,  ..., 0.5254, 0.8256, 0.1264],\n",
            "          ...,\n",
            "          [0.6001, 0.9985, 0.9984,  ..., 0.3852, 0.7577, 0.0197],\n",
            "          [0.0097, 0.1605, 0.9494,  ..., 0.9021, 0.6626, 0.2029],\n",
            "          [0.3655, 0.5563, 0.4425,  ..., 0.7558, 0.8673, 0.9849]],\n",
            "\n",
            "         [[0.8847, 0.4294, 0.1391,  ..., 0.1384, 0.1729, 0.9962],\n",
            "          [0.8827, 0.0072, 0.3515,  ..., 0.1265, 0.8359, 0.7929],\n",
            "          [0.3427, 0.7348, 0.0932,  ..., 0.6674, 0.1430, 0.8314],\n",
            "          ...,\n",
            "          [0.4816, 0.4869, 0.0213,  ..., 0.2311, 0.3971, 0.0613],\n",
            "          [0.1967, 0.1382, 0.1379,  ..., 0.3574, 0.7547, 0.0777],\n",
            "          [0.0721, 0.0811, 0.3582,  ..., 0.7145, 0.9746, 0.1632]]]])\n"
          ]
        }
      ]
    },
    {
      "cell_type": "markdown",
      "source": [
        "Выходная размерность тензора после сверточного слоя: ![изображение.png](data:image/png;base64,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)"
      ],
      "metadata": {
        "id": "DQkDXiX_-fTr"
      }
    },
    {
      "cell_type": "markdown",
      "source": [
        "Выходная размерность тензора посте пулинга: ![изображение.png](data:image/png;base64,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)"
      ],
      "metadata": {
        "id": "S34zsga6-omy"
      }
    },
    {
      "cell_type": "markdown",
      "source": [
        "# Параметры обучения сети"
      ],
      "metadata": {
        "id": "7a-TWdak4cMK"
      }
    },
    {
      "cell_type": "code",
      "source": [
        "NUMBER_OF_EPOCHS = 35\n",
        "LR = 0.005"
      ],
      "metadata": {
        "id": "DAJ9XZvK40nP"
      },
      "execution_count": 20,
      "outputs": []
    },
    {
      "cell_type": "markdown",
      "source": [
        "# Обучение сети"
      ],
      "metadata": {
        "id": "lrxg09KL0Fy-"
      }
    },
    {
      "cell_type": "code",
      "source": [
        "import torch\n",
        "import torch.nn as nn\n",
        "import torch.optim as optim\n",
        "import torchvision\n",
        "import torchvision.transforms as transforms\n",
        "from torch.utils.data import DataLoader\n",
        "from sklearn.metrics import accuracy_score, recall_score, precision_score, f1_score\n",
        "import numpy as np"
      ],
      "metadata": {
        "id": "zlmL4ev90DfH"
      },
      "execution_count": 21,
      "outputs": []
    },
    {
      "cell_type": "code",
      "source": [
        "def calculate_metrics(loader, model):\n",
        "    y_true = []\n",
        "    y_pred = []\n",
        "    model.eval()\n",
        "    with torch.no_grad():\n",
        "        for inputs, labels in loader:\n",
        "            outputs = model(inputs)\n",
        "            _, predicted = torch.max(outputs, 1)\n",
        "            y_pred.extend(predicted.numpy())\n",
        "            y_true.extend(labels.numpy())\n",
        "\n",
        "    accuracy = accuracy_score(y_true, y_pred)\n",
        "    recall = recall_score(y_true, y_pred, average='macro')\n",
        "    precision = precision_score(y_true, y_pred, average='macro')\n",
        "    f1 = f1_score(y_true, y_pred, average='macro')\n",
        "    return accuracy, recall, precision, f1\n",
        "\n",
        "transform = transforms.Compose([transforms.ToTensor(), transforms.Normalize((0.5,), (0.5,))])\n",
        "trainset = torchvision.datasets.CIFAR10(root='./data', train=True, download=True, transform=transform)\n",
        "valset = torchvision.datasets.CIFAR10(root='./data', train=False, download=True, transform=transform)\n",
        "trainloader = DataLoader(trainset, batch_size=10000, shuffle=True)\n",
        "valloader = DataLoader(valset, batch_size=10000, shuffle=False)"
      ],
      "metadata": {
        "colab": {
          "base_uri": "https://localhost:8080/"
        },
        "id": "og3WFzT6D59E",
        "outputId": "22324033-7b12-4c9e-bfbf-37d95501cf5a"
      },
      "execution_count": 22,
      "outputs": [
        {
          "output_type": "stream",
          "name": "stdout",
          "text": [
            "Files already downloaded and verified\n",
            "Files already downloaded and verified\n"
          ]
        }
      ]
    },
    {
      "cell_type": "code",
      "execution_count": 23,
      "metadata": {
        "id": "tSv0GFCDOsky",
        "colab": {
          "base_uri": "https://localhost:8080/"
        },
        "outputId": "00046472-8ab0-4010-9ebd-94a166e7e1fc"
      },
      "outputs": [
        {
          "output_type": "stream",
          "name": "stdout",
          "text": [
            "Epoch 1, Loss: 2.309\n",
            "Training - Accuracy: 0.13632, Recall: 0.13632, Precision: 0.1742511835908639, F1 Score: 0.06722740363018878\n"
          ]
        },
        {
          "output_type": "stream",
          "name": "stderr",
          "text": [
            "/usr/local/lib/python3.10/dist-packages/sklearn/metrics/_classification.py:1565: UndefinedMetricWarning: Precision is ill-defined and being set to 0.0 in labels with no predicted samples. Use `zero_division` parameter to control this behavior.\n",
            "  _warn_prf(average, modifier, f\"{metric.capitalize()} is\", len(result))\n"
          ]
        },
        {
          "output_type": "stream",
          "name": "stdout",
          "text": [
            "Validation - Accuracy: 0.1364, Recall: 0.1364, Precision: 0.12482353204355075, F1 Score: 0.06495442489062975\n",
            "Epoch 2, Loss: 2.297\n",
            "Training - Accuracy: 0.1446, Recall: 0.1446, Precision: 0.1340201074197223, F1 Score: 0.08225790248228756\n",
            "Validation - Accuracy: 0.1465, Recall: 0.14650000000000002, Precision: 0.23331046134566985, F1 Score: 0.08289202065693435\n",
            "Epoch 3, Loss: 2.280\n",
            "Training - Accuracy: 0.15008, Recall: 0.15008, Precision: 0.13676231851763235, F1 Score: 0.09537264563898679\n"
          ]
        },
        {
          "output_type": "stream",
          "name": "stderr",
          "text": [
            "/usr/local/lib/python3.10/dist-packages/sklearn/metrics/_classification.py:1565: UndefinedMetricWarning: Precision is ill-defined and being set to 0.0 in labels with no predicted samples. Use `zero_division` parameter to control this behavior.\n",
            "  _warn_prf(average, modifier, f\"{metric.capitalize()} is\", len(result))\n"
          ]
        },
        {
          "output_type": "stream",
          "name": "stdout",
          "text": [
            "Validation - Accuracy: 0.1535, Recall: 0.1535, Precision: 0.13939148299950915, F1 Score: 0.09716734605966504\n",
            "Epoch 4, Loss: 2.259\n",
            "Training - Accuracy: 0.16196, Recall: 0.16196000000000002, Precision: 0.14675372157851388, F1 Score: 0.11116700814711164\n",
            "Validation - Accuracy: 0.1628, Recall: 0.1628, Precision: 0.22927101126969865, F1 Score: 0.11140493779459071\n",
            "Epoch 5, Loss: 2.238\n",
            "Training - Accuracy: 0.1813, Recall: 0.1813, Precision: 0.1534831011230465, F1 Score: 0.12688838652480616\n",
            "Validation - Accuracy: 0.1831, Recall: 0.18309999999999998, Precision: 0.2406560935277721, F1 Score: 0.12631760845943374\n",
            "Epoch 6, Loss: 2.222\n",
            "Training - Accuracy: 0.18408, Recall: 0.18407999999999997, Precision: 0.17172756826163388, F1 Score: 0.12551090280705557\n"
          ]
        },
        {
          "output_type": "stream",
          "name": "stderr",
          "text": [
            "/usr/local/lib/python3.10/dist-packages/sklearn/metrics/_classification.py:1565: UndefinedMetricWarning: Precision is ill-defined and being set to 0.0 in labels with no predicted samples. Use `zero_division` parameter to control this behavior.\n",
            "  _warn_prf(average, modifier, f\"{metric.capitalize()} is\", len(result))\n"
          ]
        },
        {
          "output_type": "stream",
          "name": "stdout",
          "text": [
            "Validation - Accuracy: 0.1907, Recall: 0.19069999999999998, Precision: 0.24437753533175283, F1 Score: 0.1273210827719007\n",
            "Epoch 7, Loss: 2.208\n"
          ]
        },
        {
          "output_type": "stream",
          "name": "stderr",
          "text": [
            "/usr/local/lib/python3.10/dist-packages/sklearn/metrics/_classification.py:1565: UndefinedMetricWarning: Precision is ill-defined and being set to 0.0 in labels with no predicted samples. Use `zero_division` parameter to control this behavior.\n",
            "  _warn_prf(average, modifier, f\"{metric.capitalize()} is\", len(result))\n"
          ]
        },
        {
          "output_type": "stream",
          "name": "stdout",
          "text": [
            "Training - Accuracy: 0.1928, Recall: 0.1928, Precision: 0.16482738909472955, F1 Score: 0.13151095239372343\n"
          ]
        },
        {
          "output_type": "stream",
          "name": "stderr",
          "text": [
            "/usr/local/lib/python3.10/dist-packages/sklearn/metrics/_classification.py:1565: UndefinedMetricWarning: Precision is ill-defined and being set to 0.0 in labels with no predicted samples. Use `zero_division` parameter to control this behavior.\n",
            "  _warn_prf(average, modifier, f\"{metric.capitalize()} is\", len(result))\n"
          ]
        },
        {
          "output_type": "stream",
          "name": "stdout",
          "text": [
            "Validation - Accuracy: 0.1969, Recall: 0.1969, Precision: 0.2465389321040885, F1 Score: 0.1330109012255215\n",
            "Epoch 8, Loss: 2.195\n",
            "Training - Accuracy: 0.2041, Recall: 0.2041, Precision: 0.15519575529506063, F1 Score: 0.14239249622828914\n"
          ]
        },
        {
          "output_type": "stream",
          "name": "stderr",
          "text": [
            "/usr/local/lib/python3.10/dist-packages/sklearn/metrics/_classification.py:1565: UndefinedMetricWarning: Precision is ill-defined and being set to 0.0 in labels with no predicted samples. Use `zero_division` parameter to control this behavior.\n",
            "  _warn_prf(average, modifier, f\"{metric.capitalize()} is\", len(result))\n"
          ]
        },
        {
          "output_type": "stream",
          "name": "stdout",
          "text": [
            "Validation - Accuracy: 0.2083, Recall: 0.2083, Precision: 0.21982799168664452, F1 Score: 0.14424336311213481\n",
            "Epoch 9, Loss: 2.185\n"
          ]
        },
        {
          "output_type": "stream",
          "name": "stderr",
          "text": [
            "/usr/local/lib/python3.10/dist-packages/sklearn/metrics/_classification.py:1565: UndefinedMetricWarning: Precision is ill-defined and being set to 0.0 in labels with no predicted samples. Use `zero_division` parameter to control this behavior.\n",
            "  _warn_prf(average, modifier, f\"{metric.capitalize()} is\", len(result))\n"
          ]
        },
        {
          "output_type": "stream",
          "name": "stdout",
          "text": [
            "Training - Accuracy: 0.2115, Recall: 0.21150000000000002, Precision: 0.15575475316419404, F1 Score: 0.14903580300717384\n"
          ]
        },
        {
          "output_type": "stream",
          "name": "stderr",
          "text": [
            "/usr/local/lib/python3.10/dist-packages/sklearn/metrics/_classification.py:1565: UndefinedMetricWarning: Precision is ill-defined and being set to 0.0 in labels with no predicted samples. Use `zero_division` parameter to control this behavior.\n",
            "  _warn_prf(average, modifier, f\"{metric.capitalize()} is\", len(result))\n"
          ]
        },
        {
          "output_type": "stream",
          "name": "stdout",
          "text": [
            "Validation - Accuracy: 0.2164, Recall: 0.2164, Precision: 0.2585683957784163, F1 Score: 0.1514997079665909\n",
            "Epoch 10, Loss: 2.175\n",
            "Training - Accuracy: 0.2159, Recall: 0.21590000000000004, Precision: 0.16168909315959895, F1 Score: 0.15264231774850856\n"
          ]
        },
        {
          "output_type": "stream",
          "name": "stderr",
          "text": [
            "/usr/local/lib/python3.10/dist-packages/sklearn/metrics/_classification.py:1565: UndefinedMetricWarning: Precision is ill-defined and being set to 0.0 in labels with no predicted samples. Use `zero_division` parameter to control this behavior.\n",
            "  _warn_prf(average, modifier, f\"{metric.capitalize()} is\", len(result))\n"
          ]
        },
        {
          "output_type": "stream",
          "name": "stdout",
          "text": [
            "Validation - Accuracy: 0.2216, Recall: 0.22160000000000002, Precision: 0.21185698404142173, F1 Score: 0.15630487336977272\n",
            "Epoch 11, Loss: 2.167\n",
            "Training - Accuracy: 0.21756, Recall: 0.21755999999999998, Precision: 0.18071800843653524, F1 Score: 0.15495550426214785\n"
          ]
        },
        {
          "output_type": "stream",
          "name": "stderr",
          "text": [
            "/usr/local/lib/python3.10/dist-packages/sklearn/metrics/_classification.py:1565: UndefinedMetricWarning: Precision is ill-defined and being set to 0.0 in labels with no predicted samples. Use `zero_division` parameter to control this behavior.\n",
            "  _warn_prf(average, modifier, f\"{metric.capitalize()} is\", len(result))\n"
          ]
        },
        {
          "output_type": "stream",
          "name": "stdout",
          "text": [
            "Validation - Accuracy: 0.2227, Recall: 0.22269999999999998, Precision: 0.1896210766564965, F1 Score: 0.15813890900407668\n",
            "Epoch 12, Loss: 2.160\n",
            "Training - Accuracy: 0.21764, Recall: 0.21764, Precision: 0.1969869001081019, F1 Score: 0.15701979047313908\n",
            "Validation - Accuracy: 0.2246, Recall: 0.22460000000000005, Precision: 0.19503773232170618, F1 Score: 0.1614358912405814\n",
            "Epoch 13, Loss: 2.153\n",
            "Training - Accuracy: 0.22056, Recall: 0.22056, Precision: 0.20324297228789945, F1 Score: 0.16280614395598053\n",
            "Validation - Accuracy: 0.2258, Recall: 0.2258, Precision: 0.19386315675173832, F1 Score: 0.16507139012455102\n",
            "Epoch 14, Loss: 2.147\n",
            "Training - Accuracy: 0.22668, Recall: 0.22668, Precision: 0.20748255820845724, F1 Score: 0.1719133600562308\n",
            "Validation - Accuracy: 0.2311, Recall: 0.2311, Precision: 0.19848682126829642, F1 Score: 0.17389350441352477\n",
            "Epoch 15, Loss: 2.142\n",
            "Training - Accuracy: 0.23196, Recall: 0.23196000000000003, Precision: 0.21353505010799329, F1 Score: 0.18035173072196004\n",
            "Validation - Accuracy: 0.2376, Recall: 0.23759999999999998, Precision: 0.20887378801599876, F1 Score: 0.18468968198773097\n",
            "Epoch 16, Loss: 2.137\n",
            "Training - Accuracy: 0.23576, Recall: 0.23576000000000003, Precision: 0.21638777871160397, F1 Score: 0.18702403072100665\n",
            "Validation - Accuracy: 0.2422, Recall: 0.24220000000000003, Precision: 0.2134061179789358, F1 Score: 0.19224667323829112\n",
            "Epoch 17, Loss: 2.132\n",
            "Training - Accuracy: 0.24022, Recall: 0.24022000000000002, Precision: 0.2198173208083903, F1 Score: 0.19467532774731383\n",
            "Validation - Accuracy: 0.2447, Recall: 0.2447, Precision: 0.21523564430805603, F1 Score: 0.19715439459803272\n",
            "Epoch 18, Loss: 2.127\n",
            "Training - Accuracy: 0.24266, Recall: 0.24266000000000001, Precision: 0.22181045216982773, F1 Score: 0.19913575537032252\n",
            "Validation - Accuracy: 0.2488, Recall: 0.2488, Precision: 0.2195483244221728, F1 Score: 0.20358915799188923\n",
            "Epoch 19, Loss: 2.123\n",
            "Training - Accuracy: 0.24618, Recall: 0.24617999999999998, Precision: 0.22558618338833186, F1 Score: 0.20434199429314778\n",
            "Validation - Accuracy: 0.2517, Recall: 0.2517, Precision: 0.22162727139545813, F1 Score: 0.20806803588608364\n",
            "Epoch 20, Loss: 2.119\n",
            "Training - Accuracy: 0.24852, Recall: 0.24852, Precision: 0.2293239129954844, F1 Score: 0.2080469968982061\n",
            "Validation - Accuracy: 0.2546, Recall: 0.2546, Precision: 0.22355575710348674, F1 Score: 0.21191731926906873\n",
            "Epoch 21, Loss: 2.115\n",
            "Training - Accuracy: 0.25062, Recall: 0.25062, Precision: 0.23172922198838597, F1 Score: 0.21126571995586046\n",
            "Validation - Accuracy: 0.2559, Recall: 0.25589999999999996, Precision: 0.2252520345264492, F1 Score: 0.21428784215245428\n",
            "Epoch 22, Loss: 2.111\n",
            "Training - Accuracy: 0.25152, Recall: 0.25152, Precision: 0.23314903927638503, F1 Score: 0.21301762279918526\n",
            "Validation - Accuracy: 0.2569, Recall: 0.2569, Precision: 0.22674269477022077, F1 Score: 0.21618360260919928\n",
            "Epoch 23, Loss: 2.108\n",
            "Training - Accuracy: 0.25332, Recall: 0.25332, Precision: 0.2347335990755167, F1 Score: 0.2158542586088475\n",
            "Validation - Accuracy: 0.2587, Recall: 0.2587, Precision: 0.23007405318805177, F1 Score: 0.21887762017749823\n",
            "Epoch 24, Loss: 2.105\n",
            "Training - Accuracy: 0.2547, Recall: 0.25470000000000004, Precision: 0.23682469760431707, F1 Score: 0.21826419790316662\n",
            "Validation - Accuracy: 0.2595, Recall: 0.25949999999999995, Precision: 0.23560035825969305, F1 Score: 0.22100707170799355\n",
            "Epoch 25, Loss: 2.102\n",
            "Training - Accuracy: 0.25624, Recall: 0.25624, Precision: 0.23890496247604576, F1 Score: 0.22086086087747034\n",
            "Validation - Accuracy: 0.261, Recall: 0.261, Precision: 0.23965230414927277, F1 Score: 0.22378325969580404\n",
            "Epoch 26, Loss: 2.099\n",
            "Training - Accuracy: 0.2575, Recall: 0.2575, Precision: 0.2426221944819939, F1 Score: 0.22339224263756888\n",
            "Validation - Accuracy: 0.2632, Recall: 0.2632, Precision: 0.2441880966608186, F1 Score: 0.22722563443523897\n",
            "Epoch 27, Loss: 2.096\n",
            "Training - Accuracy: 0.25906, Recall: 0.25905999999999996, Precision: 0.2456350280808096, F1 Score: 0.22626062593717505\n",
            "Validation - Accuracy: 0.2637, Recall: 0.26369999999999993, Precision: 0.24491448078182393, F1 Score: 0.228909140404065\n",
            "Epoch 28, Loss: 2.093\n",
            "Training - Accuracy: 0.26024, Recall: 0.26023999999999997, Precision: 0.24799915702587133, F1 Score: 0.22855981597819208\n",
            "Validation - Accuracy: 0.2642, Recall: 0.2642, Precision: 0.2475527987903936, F1 Score: 0.23054307229431945\n",
            "Epoch 29, Loss: 2.090\n",
            "Training - Accuracy: 0.26108, Recall: 0.26108, Precision: 0.24945445294531216, F1 Score: 0.23035215610852772\n",
            "Validation - Accuracy: 0.265, Recall: 0.265, Precision: 0.24941708247249966, F1 Score: 0.23206663282103251\n",
            "Epoch 30, Loss: 2.088\n",
            "Training - Accuracy: 0.2619, Recall: 0.2619, Precision: 0.25147966453226245, F1 Score: 0.23220495239469058\n",
            "Validation - Accuracy: 0.2663, Recall: 0.2663, Precision: 0.2528395926160504, F1 Score: 0.23468941090931325\n",
            "Epoch 31, Loss: 2.085\n",
            "Training - Accuracy: 0.26244, Recall: 0.26244, Precision: 0.2523061793413236, F1 Score: 0.2339426013546319\n",
            "Validation - Accuracy: 0.2676, Recall: 0.26759999999999995, Precision: 0.2548424366731127, F1 Score: 0.23724747297770338\n",
            "Epoch 32, Loss: 2.083\n",
            "Training - Accuracy: 0.26348, Recall: 0.26348000000000005, Precision: 0.2531573794473009, F1 Score: 0.2362960823150028\n",
            "Validation - Accuracy: 0.2678, Recall: 0.26780000000000004, Precision: 0.25530653126903463, F1 Score: 0.23878215569167022\n",
            "Epoch 33, Loss: 2.080\n",
            "Training - Accuracy: 0.26464, Recall: 0.26464, Precision: 0.2553931754881475, F1 Score: 0.23901963732089482\n",
            "Validation - Accuracy: 0.2689, Recall: 0.26890000000000003, Precision: 0.2548975011873772, F1 Score: 0.24070149628683732\n",
            "Epoch 34, Loss: 2.078\n",
            "Training - Accuracy: 0.26486, Recall: 0.26486, Precision: 0.2568808575084116, F1 Score: 0.24053159204414518\n",
            "Validation - Accuracy: 0.2682, Recall: 0.26820000000000005, Precision: 0.25549709227007755, F1 Score: 0.24170448491561528\n",
            "Epoch 35, Loss: 2.076\n",
            "Training - Accuracy: 0.27082, Recall: 0.27081999999999995, Precision: 0.2601631452637113, F1 Score: 0.24809554112816562\n",
            "Validation - Accuracy: 0.2764, Recall: 0.2764, Precision: 0.2634011490305247, F1 Score: 0.25230199229074657\n",
            "Finished training on spcified number of epochs\n"
          ]
        }
      ],
      "source": [
        "criterion = nn.CrossEntropyLoss()\n",
        "\n",
        "optimizer = optim.SGD(net.parameters(), lr=LR, momentum=0.9) #для SimpleConvNet\n",
        "# optimizer = optim.Adam(net.parameters(), lr=0.005) #для BetterNet\n",
        "\n",
        "\n",
        "for epoch in range(NUMBER_OF_EPOCHS):\n",
        "    running_loss = 0.0\n",
        "    net.train()\n",
        "    for i, data in enumerate(trainloader, 0):\n",
        "        inputs, labels = data\n",
        "\n",
        "        optimizer.zero_grad()\n",
        "\n",
        "        outputs = net(inputs)\n",
        "        loss = criterion(outputs, labels)\n",
        "        loss.backward()\n",
        "        optimizer.step()\n",
        "\n",
        "        running_loss += loss.item()\n",
        "\n",
        "    print(f'Epoch {epoch + 1}, Loss: {running_loss / len(trainloader):.3f}')\n",
        "\n",
        "    train_acc, train_rec, train_prec, train_f1 = calculate_metrics(trainloader, net)\n",
        "    print(f'Training - Accuracy: {train_acc}, Recall: {train_rec}, Precision: {train_prec}, F1 Score: {train_f1}')\n",
        "\n",
        "    val_acc, val_rec, val_prec, val_f1 = calculate_metrics(valloader, net)\n",
        "    print(f'Validation - Accuracy: {val_acc}, Recall: {val_rec}, Precision: {val_prec}, F1 Score: {val_f1}')\n",
        "\n",
        "    if val_f1 >= 0.6:\n",
        "        print(\"ВЫПОЛНЕНО\")\n",
        "        break\n",
        "\n",
        "print('Finished training on spcified number of epochs')"
      ]
    },
    {
      "cell_type": "code",
      "source": [],
      "metadata": {
        "id": "lkXYxSm0fRMq"
      },
      "execution_count": null,
      "outputs": []
    }
  ]
}