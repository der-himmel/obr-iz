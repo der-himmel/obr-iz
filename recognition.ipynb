{
  "nbformat": 4,
  "nbformat_minor": 0,
  "metadata": {
    "colab": {
      "provenance": [],
      "authorship_tag": "ABX9TyMmkU3FFkoTh/g14BIyL0be",
      "include_colab_link": true
    },
    "kernelspec": {
      "name": "python3",
      "display_name": "Python 3"
    },
    "language_info": {
      "name": "python"
    }
  },
  "cells": [
    {
      "cell_type": "markdown",
      "metadata": {
        "id": "view-in-github",
        "colab_type": "text"
      },
      "source": [
        "<a href=\"https://colab.research.google.com/github/der-himmel/obr-iz/blob/main/recognition.ipynb\" target=\"_parent\"><img src=\"https://colab.research.google.com/assets/colab-badge.svg\" alt=\"Open In Colab\"/></a>"
      ]
    },
    {
      "cell_type": "code",
      "source": [
        "! pip install albumentations opencv-python"
      ],
      "metadata": {
        "colab": {
          "base_uri": "https://localhost:8080/"
        },
        "id": "GnVTvXd9HP_-",
        "outputId": "86624bb3-24b1-4936-b6f6-fd4f38b3a3f2"
      },
      "execution_count": 541,
      "outputs": [
        {
          "output_type": "stream",
          "name": "stdout",
          "text": [
            "Requirement already satisfied: albumentations in /usr/local/lib/python3.10/dist-packages (1.4.20)\n",
            "Requirement already satisfied: opencv-python in /usr/local/lib/python3.10/dist-packages (4.10.0.84)\n",
            "Requirement already satisfied: numpy>=1.24.4 in /usr/local/lib/python3.10/dist-packages (from albumentations) (1.26.4)\n",
            "Requirement already satisfied: scipy>=1.10.0 in /usr/local/lib/python3.10/dist-packages (from albumentations) (1.13.1)\n",
            "Requirement already satisfied: PyYAML in /usr/local/lib/python3.10/dist-packages (from albumentations) (6.0.2)\n",
            "Requirement already satisfied: pydantic>=2.7.0 in /usr/local/lib/python3.10/dist-packages (from albumentations) (2.10.3)\n",
            "Requirement already satisfied: albucore==0.0.19 in /usr/local/lib/python3.10/dist-packages (from albumentations) (0.0.19)\n",
            "Requirement already satisfied: eval-type-backport in /usr/local/lib/python3.10/dist-packages (from albumentations) (0.2.0)\n",
            "Requirement already satisfied: opencv-python-headless>=4.9.0.80 in /usr/local/lib/python3.10/dist-packages (from albumentations) (4.10.0.84)\n",
            "Requirement already satisfied: stringzilla>=3.10.4 in /usr/local/lib/python3.10/dist-packages (from albucore==0.0.19->albumentations) (3.11.1)\n",
            "Requirement already satisfied: annotated-types>=0.6.0 in /usr/local/lib/python3.10/dist-packages (from pydantic>=2.7.0->albumentations) (0.7.0)\n",
            "Requirement already satisfied: pydantic-core==2.27.1 in /usr/local/lib/python3.10/dist-packages (from pydantic>=2.7.0->albumentations) (2.27.1)\n",
            "Requirement already satisfied: typing-extensions>=4.12.2 in /usr/local/lib/python3.10/dist-packages (from pydantic>=2.7.0->albumentations) (4.12.2)\n"
          ]
        }
      ]
    },
    {
      "cell_type": "code",
      "execution_count": 542,
      "metadata": {
        "id": "ogw21EJp3W2f"
      },
      "outputs": [],
      "source": [
        "import numpy as np\n",
        "import cv2\n",
        "from skimage import io\n",
        "import matplotlib.pyplot as plt\n",
        "import albumentations as A"
      ]
    },
    {
      "cell_type": "code",
      "source": [
        "def preprocess_image(image_path):\n",
        "    image = io.imread(image_path)\n",
        "    height, width = image.shape[:2]\n",
        "\n",
        "    padding = max(width, height)\n",
        "    padded_image = cv2.copyMakeBorder(image, padding, padding, padding, padding, borderType=cv2.BORDER_CONSTANT, value=(255, 255, 255))\n",
        "    transform = A.Compose([\n",
        "      A.HorizontalFlip(p=0.8),\n",
        "      A.VerticalFlip(p=0.8),\n",
        "      A.Rotate(limit=(0, 90), p=1.0),\n",
        "      # A.GaussNoise(var_limit=(10.0, 50.0), p=0.2),\n",
        "      # A.Blur(blur_limit=3, p=0.1),\n",
        "      A.Perspective(scale=(0.01, 0.3), p=0.7),\n",
        "      A.ElasticTransform(alpha=1.0, sigma=1.0, p=0.7),\n",
        "      A.GridDistortion(num_steps=10, distort_limit=(-0.3, 0.3), p=0.7),\n",
        "    ])\n",
        "\n",
        "    image = transform(image=padded_image)['image']\n",
        "\n",
        "    return image"
      ],
      "metadata": {
        "id": "bsY8-c0J8DGe"
      },
      "execution_count": 543,
      "outputs": []
    },
    {
      "cell_type": "code",
      "source": [
        "PATH = 'btr-80-256.jpg'\n",
        "# PATH = 'test-img/cg-test2.jpg'\n",
        "\n",
        "image = preprocess_image(PATH)\n",
        "\n",
        "all_characteristic_points = []\n",
        "\n",
        "plt.figure(figsize=(10, 10))\n",
        "plt.imshow(image, cmap='gray'), plt.axis('off'), plt.title('Конутры')\n",
        "plt.show()"
      ],
      "metadata": {
        "colab": {
          "base_uri": "https://localhost:8080/",
          "height": 663
        },
        "id": "qzUeEC6T9ZPw",
        "outputId": "8d13f006-7390-4bc2-f882-2b42e493028d"
      },
      "execution_count": 544,
      "outputs": [
        {
          "output_type": "display_data",
          "data": {
            "text/plain": [
              "<Figure size 1000x1000 with 1 Axes>"
            ],
            "image/png": "[encoded data removed]"
          },
          "metadata": {}
        }
      ]
    },
    {
      "cell_type": "code",
      "source": [
        "# output_image = np.zeros_like(binary_image)\n",
        "\n",
        "# cv2.circle(output_image, tuple(center_of_gravity.astype(int)), 1, (255, 0, 0), -1)\n",
        "# cv2.drawContours(output_image, contours[::-1], -1, (255), thickness=1)\n",
        "\n",
        "# plt.figure(figsize=(10, 10))\n",
        "# plt.imshow(output_image, cmap='gray'), plt.axis('off'), plt.title('Конутры')\n",
        "# plt.show()"
      ],
      "metadata": {
        "collapsed": true,
        "id": "T30LJAKgGwu1"
      },
      "execution_count": 545,
      "outputs": []
    },
    {
      "cell_type": "code",
      "source": [
        "def binarize_image(image):\n",
        "    gray_image = cv2.cvtColor(image, cv2.COLOR_BGR2GRAY)\n",
        "\n",
        "    _, binary_image = cv2.threshold(gray_image, 127, 255, cv2.THRESH_BINARY_INV)\n",
        "\n",
        "    return binary_image"
      ],
      "metadata": {
        "id": "DnCMsaByTaZM"
      },
      "execution_count": 546,
      "outputs": []
    },
    {
      "cell_type": "code",
      "source": [
        "binary_image = binarize_image(image)\n",
        "\n",
        "mask = np.zeros(binary_image.shape[:2], dtype=np.uint8)\n",
        "\n",
        "contours, _ = cv2.findContours(binary_image, cv2.RETR_EXTERNAL, cv2.CHAIN_APPROX_SIMPLE)\n",
        "center_of_gravity = np.mean(np.vstack([contour.squeeze() for contour in contours[::-1]]), axis=0)\n",
        "print(f'CG = {center_of_gravity}')\n",
        "cv2.drawContours(mask, contours[::-1], -1, (255), thickness=1)\n",
        "cv2.circle(mask, tuple(center_of_gravity.astype(int)), 1, (255, 0, 0), -1)\n",
        "\n",
        "x, y, w, h = cv2.boundingRect(mask)\n",
        "\n",
        "cropped_image = mask[y:y+h, x:x+w]\n",
        "\n",
        "plt.figure(figsize=(10, 10))\n",
        "plt.imshow(cropped_image, cmap='gray'), plt.axis('off'), plt.title('Конутры')\n",
        "plt.show()"
      ],
      "metadata": {
        "colab": {
          "base_uri": "https://localhost:8080/",
          "height": 846
        },
        "id": "OVQ5i4h3KVkH",
        "outputId": "c9a338cb-77a8-4154-a519-9babdc937c92"
      },
      "execution_count": 547,
      "outputs": [
        {
          "output_type": "stream",
          "name": "stdout",
          "text": [
            "CG = [383.58073654 293.63172805]\n"
          ]
        },
        {
          "output_type": "display_data",
          "data": {
            "text/plain": [
              "<Figure size 1000x1000 with 1 Axes>"
            ],
            "image/png": "[encoded data removed]"
          },
          "metadata": {}
        }
      ]
    },
    {
      "cell_type": "code",
      "source": [
        "# for contour in contours:\n",
        "#         characteristic_points, cg = find_characteristic_points(contour, num_points, center_of_gravity)\n",
        "#         all_characteristic_points.extend(characteristic_points)\n",
        "#         if center_of_gravity is None:\n",
        "#             center_of_gravity = cg\n",
        "#             print(f'CG = {center_of_gravity}')"
      ],
      "metadata": {
        "collapsed": true,
        "id": "Q6HvUfUu8ltP"
      },
      "execution_count": 548,
      "outputs": []
    },
    {
      "cell_type": "code",
      "source": [
        "# def find_characteristic_points(contour, num_points, center_of_gravity):\n",
        "#     # Проверка на количество точек в контуре\n",
        "#     num_points = min(len(contour), num_points)\n",
        "\n",
        "#     print(f'n = {num_points}', f'countours len = {len(contour)}')  # Ограничиваем количество точек количеством точек в контуре\n",
        "#     if contour.ndim == 3:  # Shape (n, 1, 2)\n",
        "#         contour = contour.reshape(-1, 2)  # Reshape to (n, 2)\n",
        "\n",
        "#     # Вычисляем расстояния от центра масс до всех точек контура\n",
        "#     distances = np.linalg.norm(contour - center_of_gravity, axis=1)\n",
        "\n",
        "#     # Сортируем точки по расстоянию от центра масс и выбираем нужное количество\n",
        "#     sorted_indices = np.argsort(distances)[::-1]  # Сортировка по убыванию\n",
        "#     characteristic_points = contour[sorted_indices[:num_points-1]]\n",
        "\n",
        "#     return characteristic_points"
      ],
      "metadata": {
        "id": "2d4ho8euSq_S"
      },
      "execution_count": 549,
      "outputs": []
    },
    {
      "cell_type": "code",
      "source": [
        "def find_characteristic_points(contour, center_of_gravity, num_points, EPS):\n",
        "    # Проверка на количество точек в контуре\n",
        "    num_points = max(len(contour), num_points)\n",
        "\n",
        "    if contour.ndim == 3:  # Shape (n, 1, 2)\n",
        "        contour = contour.reshape(-1, 2)  # Reshape to (n, 2)\n",
        "\n",
        "    # Первая точка - наиболее удаленная от центра масс\n",
        "    distances = np.linalg.norm(contour - center_of_gravity, axis=1)\n",
        "    first_point_idx = np.argmax(distances)\n",
        "    characteristic_points = [contour[first_point_idx]]\n",
        "\n",
        "    # Вторая точка - наиболее удаленная от первой\n",
        "    distances = np.linalg.norm(contour - characteristic_points[0], axis=1)\n",
        "    second_point_idx = np.argmax(distances)\n",
        "    characteristic_points.append(contour[second_point_idx])\n",
        "\n",
        "    # Процесс выбора следующих точек\n",
        "    while len(characteristic_points) < num_points:\n",
        "        # Берем последние две найденные точки\n",
        "        p1 = characteristic_points[-2]\n",
        "        p2 = characteristic_points[-1]\n",
        "\n",
        "        # Вычисляем расстояния от всех точек до прямой, проходящей через p1 и p2\n",
        "        line_vector = p2 - p1\n",
        "        line_length = np.linalg.norm(line_vector)\n",
        "\n",
        "        # Вектор, перпендикулярный прямой\n",
        "        perp_vector = np.array([-line_vector[1], line_vector[0]], dtype=np.float64)  # Убедимся, что тип данных float64\n",
        "        perp_vector /= np.linalg.norm(perp_vector)  # Нормализуем\n",
        "\n",
        "        # Находим расстояние от всех точек до прямой\n",
        "        distances_to_line = np.abs(np.dot(contour - p1, perp_vector))\n",
        "\n",
        "        # Находим точку, наиболее удаленную от прямой\n",
        "        max_distance_idx = np.argmax(distances_to_line)\n",
        "        max_distance = distances_to_line[max_distance_idx]\n",
        "\n",
        "        # Если расстояние от точки до прямой меньше, чем порог EPS, прекращаем\n",
        "        if max_distance / line_length < EPS:\n",
        "            break\n",
        "\n",
        "        # Добавляем эту точку в список характеристических точек\n",
        "        characteristic_points.append(contour[max_distance_idx])\n",
        "\n",
        "    return characteristic_points\n"
      ],
      "metadata": {
        "id": "8n5CYKfUYnEX"
      },
      "execution_count": 550,
      "outputs": []
    },
    {
      "cell_type": "code",
      "source": [
        "contours, _ = cv2.findContours(cropped_image, cv2.RETR_EXTERNAL, cv2.CHAIN_APPROX_SIMPLE)\n",
        "center_of_gravity = np.mean(np.vstack([contour.squeeze() for contour in contours[::-1]]), axis=0)\n",
        "\n",
        "contour = np.vstack([contour.squeeze() for contour in contours[::-1]])\n",
        "\n",
        "characteristic_points = find_characteristic_points(contour, center_of_gravity, num_points=400, EPS=0.001)\n",
        "# print(len(characteristic_points))"
      ],
      "metadata": {
        "id": "i_5M2UJlNuQB"
      },
      "execution_count": 551,
      "outputs": []
    },
    {
      "cell_type": "code",
      "source": [
        "def remove_duplicates(characteristic_points):\n",
        "    unique_points = []\n",
        "    seen = set()  # Множество для отслеживания уникальных точек\n",
        "    for point in characteristic_points:\n",
        "        # Преобразуем точку в кортеж, чтобы она могла быть добавлена в множество\n",
        "        point_tuple = tuple(point)  # Преобразуем точку в кортеж для удобства сравнения\n",
        "        if point_tuple not in seen:\n",
        "            seen.add(point_tuple)\n",
        "            unique_points.append(point)\n",
        "    return unique_points\n",
        "\n",
        "characteristic_points = remove_duplicates(characteristic_points)\n",
        "print(len(characteristic_points))"
      ],
      "metadata": {
        "colab": {
          "base_uri": "https://localhost:8080/"
        },
        "id": "p6iUsEJbaOzg",
        "outputId": "96aa8f72-3193-4387-d583-d22fb096e60f"
      },
      "execution_count": 552,
      "outputs": [
        {
          "output_type": "stream",
          "name": "stdout",
          "text": [
            "6\n"
          ]
        }
      ]
    },
    {
      "cell_type": "code",
      "source": [
        "def display_image_with_points(image, characteristic_points, center_of_gravity):\n",
        "    # Create a copy of the image to draw on\n",
        "    image_copy = image.copy()\n",
        "\n",
        "    # Convert the image from BGR to RGB for correct display\n",
        "    image_copy = cv2.cvtColor(image_copy, cv2.COLOR_BGR2RGB)\n",
        "\n",
        "    cv2.line(image_copy, tuple(center_of_gravity.astype(int)),\n",
        "                               tuple(characteristic_points[0].astype(int)),\n",
        "                                (255, 0, 0), 1, cv2.LINE_AA)  # Draw red lines\n",
        "\n",
        "    # Draw lines between characteristic points\n",
        "    for i in range(1, len(characteristic_points)):\n",
        "        cv2.line(image_copy, tuple(characteristic_points[i-1].astype(int)), tuple(characteristic_points[i].astype(int)), (255, 0, 0), 1, cv2.LINE_AA)  # Draw red lines\n",
        "\n",
        "\n",
        "        # Draw circles at characteristic points\n",
        "    for i, point in enumerate(characteristic_points):\n",
        "        cv2.circle(image_copy, tuple(point.astype(int)), 2, (0, 255, 0), -1)  # Draw green circles\n",
        "\n",
        "        # Add index text at each point\n",
        "        cv2.putText(image_copy, str(i+1), tuple(point.astype(int)),\n",
        "                    cv2.FONT_HERSHEY_PLAIN, 1.0, (0, 255, 255), 1, cv2.LINE_4)\n",
        "\n",
        "    plt.figure(figsize=(10, 10))\n",
        "    plt.imshow(image_copy)  # Convert BGR to RGB for Matplotlib\n",
        "    plt.axis('off')\n",
        "    plt.title('Характерные точки')\n",
        "    plt.show()"
      ],
      "metadata": {
        "id": "RqO_bm2UUhV1"
      },
      "execution_count": 553,
      "outputs": []
    },
    {
      "cell_type": "code",
      "source": [
        "print(len(characteristic_points))\n",
        "display_image_with_points(cropped_image, characteristic_points, center_of_gravity)"
      ],
      "metadata": {
        "colab": {
          "base_uri": "https://localhost:8080/",
          "height": 846
        },
        "id": "meyV7TT48m_H",
        "outputId": "678627c1-5425-4018-b17b-a258607cbcb9"
      },
      "execution_count": 554,
      "outputs": [
        {
          "output_type": "stream",
          "name": "stdout",
          "text": [
            "6\n"
          ]
        },
        {
          "output_type": "display_data",
          "data": {
            "text/plain": [
              "<Figure size 1000x1000 with 1 Axes>"
            ],
            "image/png": "[encoded data removed]"
          },
          "metadata": {}
        }
      ]
    },
    {
      "cell_type": "code",
      "source": [
        "# def main():\n",
        "#     num_points = 5  # Задайте количество точек\n",
        "\n",
        "#     # Загружаем и обрабатываем изображение\n",
        "#     image, binary_image = preprocess_image(PATH)\n",
        "\n",
        "#     # Находим контуры на бинаризованном изображении (черные объекты)\n",
        "#     contours, _ = cv2.findContours(binary_image, cv2.RETR_EXTERNAL, cv2.CHAIN_APPROX_SIMPLE)\n",
        "\n",
        "#     # Для каждого контура находим характеристические точки\n",
        "#     all_characteristic_points = []\n",
        "#     center_of_gravity = None\n",
        "\n",
        "#     for contour in contours:\n",
        "#         characteristic_points, cg = find_characteristic_points(contour, num_points=num_points)\n",
        "#         all_characteristic_points.extend(characteristic_points)\n",
        "#         if center_of_gravity is None:\n",
        "#             center_of_gravity = cg  # Сохраняем первый центр масс для отображения\n",
        "\n",
        "#     # Отображаем исходное изображение с характеристическими точками\n",
        "#     display_image_with_points(image, all_characteristic_points, center_of_gravity)\n"
      ],
      "metadata": {
        "id": "DLPFb9A98LrP"
      },
      "execution_count": 555,
      "outputs": []
    },
    {
      "cell_type": "code",
      "source": [
        "# if __name__ == \"__main__\":\n",
        "#     main()"
      ],
      "metadata": {
        "id": "x2L4jUIJ8N4X"
      },
      "execution_count": 556,
      "outputs": []
    }
  ]
}