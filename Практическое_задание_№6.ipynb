{
  "metadata": {
    "colab": {
      "provenance": [],
      "include_colab_link": true
    },
    "kernelspec": {
      "name": "python3",
      "display_name": "Python 3"
    },
    "language_info": {
      "name": "python",
      "version": "3.10.10",
      "mimetype": "text/x-python",
      "codemirror_mode": {
        "name": "ipython",
        "version": 3
      },
      "pygments_lexer": "ipython3",
      "nbconvert_exporter": "python",
      "file_extension": ".py"
    }
  },
  "nbformat_minor": 0,
  "nbformat": 4,
  "cells": [
    {
      "cell_type": "markdown",
      "metadata": {
        "id": "view-in-github",
        "colab_type": "text"
      },
      "source": [
        "<a href=\"https://colab.research.google.com/github/der-himmel/obr-iz/blob/main/%D0%9F%D1%80%D0%B0%D0%BA%D1%82%D0%B8%D1%87%D0%B5%D1%81%D0%BA%D0%BE%D0%B5_%D0%B7%D0%B0%D0%B4%D0%B0%D0%BD%D0%B8%D0%B5_%E2%84%966.ipynb\" target=\"_parent\"><img src=\"https://colab.research.google.com/assets/colab-badge.svg\" alt=\"Open In Colab\"/></a>"
      ]
    },
    {
      "cell_type": "markdown",
      "source": [
        "# Пишем свою собственную, маленькую, да удаленькую ResNet"
      ],
      "metadata": {
        "id": "j_ZOzO4Nlycm",
        "execution": {
          "iopub.status.busy": "2023-07-08T14:05:06.471937Z",
          "iopub.execute_input": "2023-07-08T14:05:06.473076Z",
          "iopub.status.idle": "2023-07-08T14:05:06.479560Z",
          "shell.execute_reply.started": "2023-07-08T14:05:06.473037Z",
          "shell.execute_reply": "2023-07-08T14:05:06.478446Z"
        }
      }
    },
    {
      "cell_type": "code",
      "source": [
        "from pathlib import Path\n",
        "import numpy as np\n",
        "import pandas as pd\n",
        "from PIL import Image\n",
        "import torch\n",
        "from torch import nn\n",
        "from torchvision import transforms\n",
        "import gc\n",
        "from functools import partial\n",
        "from tqdm import tqdm\n",
        "from matplotlib import pyplot as plt\n",
        "\n",
        "device = torch.device(\"cuda\" if torch.cuda.is_available() else \"cpu\")"
      ],
      "metadata": {
        "_kg_hide-input": true,
        "execution": {
          "iopub.status.busy": "2023-08-17T06:55:37.261436Z",
          "iopub.execute_input": "2023-08-17T06:55:37.261788Z",
          "iopub.status.idle": "2023-08-17T06:55:40.114943Z",
          "shell.execute_reply.started": "2023-08-17T06:55:37.261759Z",
          "shell.execute_reply": "2023-08-17T06:55:40.114246Z"
        },
        "trusted": true,
        "id": "B_XcZ8X093Tj"
      },
      "execution_count": 1,
      "outputs": []
    },
    {
      "cell_type": "markdown",
      "source": [
        "## Сверточный блок\n",
        "\n",
        "![](https://github.com/ViktorAnchutin/miniresnet/blob/main/rdc_images/3%20resnet%20paper.png?raw=true)"
      ],
      "metadata": {
        "id": "TSHEs62S93Tk"
      }
    },
    {
      "cell_type": "code",
      "source": [
        "class ConvBlock(nn.Module):\n",
        "    def __init__(\n",
        "            self,\n",
        "            input_channels: int,\n",
        "            output_channels: int,\n",
        "            kernel_size: int = 3,\n",
        "            padding: int = 1,\n",
        "            activation: bool = True,\n",
        "        ):\n",
        "        super().__init__()\n",
        "        self.layers = nn.Sequential(\n",
        "            nn.Conv2d(\n",
        "                input_channels,\n",
        "                output_channels,\n",
        "                stride=1,\n",
        "                kernel_size=kernel_size,\n",
        "                padding=padding\n",
        "            ),\n",
        "            nn.BatchNorm2d(output_channels),\n",
        "            nn.ReLU() if activation else nn.Identity()\n",
        "        )\n",
        "\n",
        "    def forward(self, x):\n",
        "        return self.layers(x)\n",
        "\n",
        "example_of_block = ConvBlock(3, 32)\n",
        "example_of_block(torch.rand(64, 3, 244, 244)).shape"
      ],
      "metadata": {
        "colab": {
          "base_uri": "https://localhost:8080/"
        },
        "id": "ql4990cZyVJx",
        "outputId": "1f152c00-2224-405f-982c-d2ba7b915d88"
      },
      "execution_count": 2,
      "outputs": [
        {
          "output_type": "execute_result",
          "data": {
            "text/plain": [
              "torch.Size([64, 32, 244, 244])"
            ]
          },
          "metadata": {},
          "execution_count": 2
        }
      ]
    },
    {
      "cell_type": "markdown",
      "source": [
        "## Residual модуль\n",
        "\n",
        "![](https://github.com/ViktorAnchutin/miniresnet/blob/main/rdc_images/5%20resnet%20paper.png?raw=true)"
      ],
      "metadata": {
        "id": "K4O1gx_u93Tm"
      }
    },
    {
      "cell_type": "code",
      "source": [
        "class ResidualBlock(nn.Module):\n",
        "    def __init__(self, input_channels, output_channels):\n",
        "        super().__init__()\n",
        "        self.mismatch = not input_channels == output_channels\n",
        "\n",
        "        self.residual_conv = ConvBlock(\n",
        "            input_channels,\n",
        "            output_channels,\n",
        "            kernel_size=1,\n",
        "            padding=0,\n",
        "            activation=False\n",
        "        )\n",
        "\n",
        "        self.convolutions = nn.Sequential(\n",
        "            ConvBlock(input_channels, output_channels),\n",
        "            ConvBlock(output_channels, output_channels, activation=False),\n",
        "        )\n",
        "\n",
        "        self.activation = nn.ReLU()\n",
        "\n",
        "    def residual_connection(self, x):\n",
        "        if self.mismatch:\n",
        "            return self.convolutions(x) + self.residual_conv(x)\n",
        "        else:\n",
        "            return self.convolutions(x) + x\n",
        "\n",
        "    def forward(self, x):\n",
        "        return self.activation(self.residual_connection(x))\n",
        "\n",
        "ResidualBlock(3,32)(torch.randn((64, 3, 244, 244))).shape, ResidualBlock(32,32)(torch.randn((64,32,244,244))).shape"
      ],
      "metadata": {
        "colab": {
          "base_uri": "https://localhost:8080/"
        },
        "id": "43_wTloIzpw3",
        "outputId": "137add96-f05d-4e06-bb42-3bc38a6e3e5c"
      },
      "execution_count": 3,
      "outputs": [
        {
          "output_type": "execute_result",
          "data": {
            "text/plain": [
              "(torch.Size([64, 32, 244, 244]), torch.Size([64, 32, 244, 244]))"
            ]
          },
          "metadata": {},
          "execution_count": 3
        }
      ]
    },
    {
      "cell_type": "markdown",
      "source": [
        "## MaxPooling\n",
        "![](https://github.com/ViktorAnchutin/miniresnet/blob/main/rdc_images/6%20max%20pooling.png?raw=true)"
      ],
      "metadata": {
        "id": "7aDmw3it93Tn"
      }
    },
    {
      "cell_type": "code",
      "source": [
        "class MaxPoolBlock(nn.Module):\n",
        "    def __init__(self, kernel_size: int = 2, stride: int = 2, padding: int = 0):\n",
        "        \"\"\"\n",
        "        :param kernel_size: Размер ядра свёртки (по умолчанию 2).\n",
        "        :param stride: Шаг ядра (по умолчанию 2).\n",
        "        :param padding: Паддинг для границ (по умолчанию 0).\n",
        "        \"\"\"\n",
        "        super(MaxPoolBlock, self).__init__()\n",
        "        self.pool = nn.MaxPool2d(kernel_size=kernel_size, stride=stride, padding=padding)\n",
        "\n",
        "    def forward(self, x):\n",
        "        \"\"\"\n",
        "        Прямой проход через MaxPooling блок.\n",
        "        :param x: Входной тензор.\n",
        "        :return: Тензор с уменьшенными размерами.\n",
        "        \"\"\"\n",
        "        return self.pool(x)"
      ],
      "metadata": {
        "execution": {
          "iopub.status.busy": "2023-08-17T06:55:56.141934Z",
          "iopub.execute_input": "2023-08-17T06:55:56.142718Z",
          "iopub.status.idle": "2023-08-17T06:55:56.288860Z",
          "shell.execute_reply.started": "2023-08-17T06:55:56.142680Z",
          "shell.execute_reply": "2023-08-17T06:55:56.287976Z"
        },
        "trusted": true,
        "id": "zC_4QXgn93Tn"
      },
      "execution_count": 4,
      "outputs": []
    },
    {
      "cell_type": "code",
      "source": [
        "example_tenzor1 = torch.randn((64, 3, 144, 144))\n",
        "\n",
        "example_tenzor2 = torch.randn((64, 3, 7, 7))\n",
        "\n",
        "maxpool_block = MaxPoolBlock(kernel_size=2, stride=2)\n",
        "\n",
        "output1 = maxpool_block(example_tenzor1)\n",
        "output2 = maxpool_block(example_tenzor2)\n",
        "\n",
        "print(\"Output 1 shape:\", output1.shape)  #(64, 3, 72, 72)\n",
        "print(\"Output 2 shape:\", output2.shape)  #(64, 3, 3, 3)"
      ],
      "metadata": {
        "id": "jhS8TUGaQx0u",
        "outputId": "bc458e56-cebb-4305-fce2-7f72a8372298",
        "colab": {
          "base_uri": "https://localhost:8080/"
        }
      },
      "execution_count": 5,
      "outputs": [
        {
          "output_type": "stream",
          "name": "stdout",
          "text": [
            "Output 1 shape: torch.Size([64, 3, 72, 72])\n",
            "Output 2 shape: torch.Size([64, 3, 3, 3])\n"
          ]
        }
      ]
    },
    {
      "cell_type": "code",
      "source": [
        "nn.MaxPool2d(2)(torch.randn((64,3,144,144))).shape, nn.MaxPool2d(2)(torch.randn((64,3,7,7))).shape"
      ],
      "metadata": {
        "id": "HEsErSJIQ26e",
        "outputId": "c4a2f906-b20e-40f6-f19f-06c35f57c6eb",
        "colab": {
          "base_uri": "https://localhost:8080/"
        }
      },
      "execution_count": 6,
      "outputs": [
        {
          "output_type": "execute_result",
          "data": {
            "text/plain": [
              "(torch.Size([64, 3, 72, 72]), torch.Size([64, 3, 3, 3]))"
            ]
          },
          "metadata": {},
          "execution_count": 6
        }
      ]
    },
    {
      "cell_type": "markdown",
      "source": [
        "## Global average pooling\n",
        "![](https://github.com/ViktorAnchutin/miniresnet/blob/main/rdc_images/7%20gap.png?raw=true)"
      ],
      "metadata": {
        "id": "-WMuxfi-93Tn"
      }
    },
    {
      "cell_type": "code",
      "source": [
        "class GlobalAveragePooling(nn.Module):\n",
        "    def __init__(self):\n",
        "        super(GlobalAveragePooling, self).__init__()\n",
        "        self.gap = nn.AdaptiveAvgPool2d((1, 1))  # Приводим размерность к (1, 1)\n",
        "\n",
        "    def forward(self, x):\n",
        "        return self.gap(x)  # Применяем Global Average Pooling"
      ],
      "metadata": {
        "id": "gbq3gXZGQ9ae"
      },
      "execution_count": 7,
      "outputs": []
    },
    {
      "cell_type": "code",
      "source": [
        "GAP_layer = GlobalAveragePooling()\n",
        "input_tenzor = torch.randn(64, 128, 7, 7)\n",
        "\n",
        "\n",
        "output_tenzor = GAP_layer(input_tenzor)\n",
        "\n",
        "print(\"Input shape:\", input_tenzor.shape)\n",
        "print(\"Output shape after GAP:\", output_tenzor.shape)"
      ],
      "metadata": {
        "id": "JE2E1Tc2Q-zW",
        "outputId": "e5729191-a838-4bee-bb9b-cb1e1c3b1f40",
        "colab": {
          "base_uri": "https://localhost:8080/"
        }
      },
      "execution_count": 8,
      "outputs": [
        {
          "output_type": "stream",
          "name": "stdout",
          "text": [
            "Input shape: torch.Size([64, 128, 7, 7])\n",
            "Output shape after GAP: torch.Size([64, 128, 1, 1])\n"
          ]
        }
      ]
    },
    {
      "cell_type": "code",
      "source": [
        "nn.AdaptiveAvgPool2d((1,1))(torch.randn((64,128,7,7))).shape, nn.AdaptiveAvgPool2d((1,1))(torch.randn((64,256,2,2))).shape"
      ],
      "metadata": {
        "execution": {
          "iopub.status.busy": "2023-08-17T06:55:56.290549Z",
          "iopub.execute_input": "2023-08-17T06:55:56.291228Z",
          "iopub.status.idle": "2023-08-17T06:55:56.321490Z",
          "shell.execute_reply.started": "2023-08-17T06:55:56.291196Z",
          "shell.execute_reply": "2023-08-17T06:55:56.319030Z"
        },
        "trusted": true,
        "id": "ldLzL2Jk93To",
        "outputId": "d5c80194-08a3-4a8e-ddd5-dca957240e5a",
        "colab": {
          "base_uri": "https://localhost:8080/"
        }
      },
      "execution_count": 9,
      "outputs": [
        {
          "output_type": "execute_result",
          "data": {
            "text/plain": [
              "(torch.Size([64, 128, 1, 1]), torch.Size([64, 256, 1, 1]))"
            ]
          },
          "metadata": {},
          "execution_count": 9
        }
      ]
    },
    {
      "cell_type": "markdown",
      "source": [
        "## Развертывание\n",
        "\n",
        "\n",
        "![image.png](https://github.com/ViktorAnchutin/miniresnet/blob/main/rdc_images/8%20flatten.png?raw=true)"
      ],
      "metadata": {
        "id": "jH2Vh7SU93To"
      }
    },
    {
      "cell_type": "markdown",
      "source": [
        "## Финальное отображение в таргет\n",
        "\n",
        "\n",
        "\n",
        "![image.png](https://github.com/ViktorAnchutin/miniresnet/blob/main/rdc_images/9%20head.png?raw=true)"
      ],
      "metadata": {
        "id": "2uLANZgu93Tp"
      }
    },
    {
      "cell_type": "markdown",
      "source": [
        "## Создаем модель"
      ],
      "metadata": {
        "id": "2-lVP3Tb93Tp"
      }
    },
    {
      "cell_type": "code",
      "source": [
        "def get_backbone_layers(channels: list, maxpool_kernel: int = 2):\n",
        "    layers = list()\n",
        "\n",
        "    layers.extend([ConvBlock(3, channels[0]), nn.MaxPool2d(maxpool_kernel)])\n",
        "    for in_channels, out_channels  in zip(channels[:-1], channels[1:]):\n",
        "        layers.extend([\n",
        "            ResidualBlock(in_channels, out_channels),\n",
        "            nn.MaxPool2d(maxpool_kernel),\n",
        "        ])\n",
        "\n",
        "    layers.append(nn.AdaptiveAvgPool2d((1, 1)))\n",
        "\n",
        "    return nn.Sequential(*layers)"
      ],
      "metadata": {
        "id": "UfdIoXSRAdo_"
      },
      "execution_count": 10,
      "outputs": []
    },
    {
      "cell_type": "code",
      "source": [
        "class MiniResNet(nn.Module):\n",
        "    def __init__(self, channels: list, maxpool_kernel: int):\n",
        "        super().__init__()\n",
        "        self.backbone_net = get_backbone_layers(channels, maxpool_kernel)\n",
        "\n",
        "        self.output_head = nn.Sequential(\n",
        "            nn.Linear(channels[-1], channels[-1]),\n",
        "            nn.ReLU(),\n",
        "            nn.Linear(channels[-1], 10)\n",
        "        )\n",
        "\n",
        "    def forward(self, x):\n",
        "        x = self.backbone_net(x)\n",
        "\n",
        "        x = x.view(x.size(0), -1)\n",
        "\n",
        "        x = self.output_head(x)\n",
        "\n",
        "        return x\n",
        "\n",
        "MiniResNet([10, 16], 2)(torch.rand(1, 3, 32, 32)).shape"
      ],
      "metadata": {
        "colab": {
          "base_uri": "https://localhost:8080/"
        },
        "id": "o1yVLwZz2Qx2",
        "outputId": "2575d1fa-4913-454c-9707-62fe3654368b"
      },
      "execution_count": 11,
      "outputs": [
        {
          "output_type": "execute_result",
          "data": {
            "text/plain": [
              "torch.Size([1, 10])"
            ]
          },
          "metadata": {},
          "execution_count": 11
        }
      ]
    },
    {
      "cell_type": "markdown",
      "source": [
        "# Дальше знакомый код"
      ],
      "metadata": {
        "id": "1TBuqHdL1NUa"
      }
    },
    {
      "cell_type": "code",
      "source": [
        "import torch\n",
        "import torch.nn as nn\n",
        "import torch.optim as optim\n",
        "import torchvision\n",
        "import torchvision.transforms as transforms\n",
        "from torch.utils.data import DataLoader\n",
        "from sklearn.metrics import accuracy_score, recall_score, precision_score, f1_score\n",
        "import numpy as np"
      ],
      "metadata": {
        "id": "sXmM-gm39R_c"
      },
      "execution_count": 12,
      "outputs": []
    },
    {
      "cell_type": "code",
      "source": [
        "def calculate_metrics(loader, model):\n",
        "    y_true = []\n",
        "    y_pred = []\n",
        "    model.eval()\n",
        "    with torch.no_grad():\n",
        "        for inputs, labels in loader:\n",
        "            outputs = model(inputs)\n",
        "            _, predicted = torch.max(outputs, 1)\n",
        "            y_pred.extend(predicted.numpy())\n",
        "            y_true.extend(labels.numpy())\n",
        "\n",
        "    accuracy = accuracy_score(y_true, y_pred)\n",
        "    recall = recall_score(y_true, y_pred, average='macro')\n",
        "    precision = precision_score(y_true, y_pred, average='macro')\n",
        "    f1 = f1_score(y_true, y_pred, average='macro')\n",
        "    return accuracy, recall, precision, f1"
      ],
      "metadata": {
        "id": "b0in4Ya01Mxv"
      },
      "execution_count": 13,
      "outputs": []
    },
    {
      "cell_type": "code",
      "source": [
        "transform = transforms.Compose([transforms.RandomRotation(10), transforms.ToTensor(), transforms.Normalize((0.5,), (0.5,))])\n",
        "trainset = torchvision.datasets.CIFAR10(root='./data', train=True, download=True, transform=transform)\n",
        "valset = torchvision.datasets.CIFAR10(root='./data', train=False, download=True, transform=transform)\n",
        "trainloader = DataLoader(trainset, batch_size=64, shuffle=True)\n",
        "valloader = DataLoader(valset, batch_size=64, shuffle=False)"
      ],
      "metadata": {
        "colab": {
          "base_uri": "https://localhost:8080/"
        },
        "id": "2oWCJctV19NG",
        "outputId": "4a4b4b7b-58fa-4f2e-c485-30dfa5f75edf"
      },
      "execution_count": 27,
      "outputs": [
        {
          "output_type": "stream",
          "name": "stdout",
          "text": [
            "Files already downloaded and verified\n",
            "Files already downloaded and verified\n"
          ]
        }
      ]
    },
    {
      "cell_type": "code",
      "source": [
        "model = MiniResNet([16, 32, 64, 256], 2)\n",
        "criterion = nn.CrossEntropyLoss()\n",
        "\n",
        "optimizer = optim.Adam(model.parameters(), lr=3e-4)"
      ],
      "metadata": {
        "id": "RT62ksfN9VBj"
      },
      "execution_count": 29,
      "outputs": []
    },
    {
      "cell_type": "code",
      "source": [
        "for epoch in range(10):\n",
        "    running_loss = 0.0\n",
        "    model.train()\n",
        "    for i, data in enumerate(trainloader, 0):\n",
        "        inputs, labels = data\n",
        "\n",
        "        optimizer.zero_grad()\n",
        "\n",
        "        outputs = model(inputs)\n",
        "        loss = criterion(outputs, labels)\n",
        "        loss.backward()\n",
        "        optimizer.step()\n",
        "\n",
        "        running_loss += loss.item()\n",
        "\n",
        "    print(f'Epoch {epoch + 1}, Loss: {running_loss / len(trainloader):.3f}')\n",
        "\n",
        "    train_acc, train_rec, train_prec, train_f1 = calculate_metrics(trainloader, model)\n",
        "    print(f'Training - Accuracy: {train_acc}, Recall: {train_rec}, Precision: {train_prec}, F1 Score: {train_f1}')\n",
        "\n",
        "    val_acc, val_rec, val_prec, val_f1 = calculate_metrics(valloader, model)\n",
        "    print(f'Validation - Accuracy: {val_acc}, Recall: {val_rec}, Precision: {val_prec}, F1 Score: {val_f1}')\n",
        "\n",
        "print('Finished Training')"
      ],
      "metadata": {
        "colab": {
          "base_uri": "https://localhost:8080/",
          "height": 773
        },
        "id": "ITKbg76V-hlq",
        "outputId": "e961436d-debc-49c7-f07e-a3f84e383f4b"
      },
      "execution_count": 30,
      "outputs": [
        {
          "output_type": "stream",
          "name": "stdout",
          "text": [
            "Epoch 1, Loss: 1.288\n",
            "Training - Accuracy: 0.62422, Recall: 0.62422, Precision: 0.6557735796158332, F1 Score: 0.6197721679362413\n",
            "Validation - Accuracy: 0.6106, Recall: 0.6106, Precision: 0.6374813084875226, F1 Score: 0.606309390288788\n",
            "Epoch 2, Loss: 0.952\n",
            "Training - Accuracy: 0.70638, Recall: 0.70638, Precision: 0.7292599261042527, F1 Score: 0.7065797505485533\n",
            "Validation - Accuracy: 0.672, Recall: 0.6720000000000002, Precision: 0.6938143206850736, F1 Score: 0.6715271007117017\n",
            "Epoch 3, Loss: 0.808\n",
            "Training - Accuracy: 0.73072, Recall: 0.73072, Precision: 0.7597058513549259, F1 Score: 0.7310505690278281\n",
            "Validation - Accuracy: 0.6866, Recall: 0.6866000000000001, Precision: 0.7143951119823637, F1 Score: 0.6862853407508734\n",
            "Epoch 4, Loss: 0.711\n",
            "Training - Accuracy: 0.76398, Recall: 0.7639800000000001, Precision: 0.7769215704346294, F1 Score: 0.762829602194433\n",
            "Validation - Accuracy: 0.7146, Recall: 0.7146000000000001, Precision: 0.7276503139517109, F1 Score: 0.712002545553889\n",
            "Epoch 5, Loss: 0.635\n",
            "Training - Accuracy: 0.80788, Recall: 0.8078799999999999, Precision: 0.8108766544274367, F1 Score: 0.8036546463789916\n",
            "Validation - Accuracy: 0.7396, Recall: 0.7396, Precision: 0.7391819347769956, F1 Score: 0.7333085739691504\n",
            "Epoch 6, Loss: 0.577\n",
            "Training - Accuracy: 0.81834, Recall: 0.8183399999999998, Precision: 0.8225854032866259, F1 Score: 0.8171231108572015\n",
            "Validation - Accuracy: 0.7407, Recall: 0.7407, Precision: 0.7433373681542955, F1 Score: 0.7386665058197052\n",
            "Epoch 7, Loss: 0.520\n",
            "Training - Accuracy: 0.83104, Recall: 0.83104, Precision: 0.8410121019449986, F1 Score: 0.8297297031442714\n",
            "Validation - Accuracy: 0.7434, Recall: 0.7434, Precision: 0.7518393950222327, F1 Score: 0.7404295738761674\n",
            "Epoch 8, Loss: 0.475\n",
            "Training - Accuracy: 0.85864, Recall: 0.85864, Precision: 0.8634326478244218, F1 Score: 0.858894670698924\n",
            "Validation - Accuracy: 0.7625, Recall: 0.7625, Precision: 0.7681383673070796, F1 Score: 0.7625109526903696\n"
          ]
        },
        {
          "output_type": "error",
          "ename": "KeyboardInterrupt",
          "evalue": "",
          "traceback": [
            "\u001b[0;31m---------------------------------------------------------------------------\u001b[0m",
            "\u001b[0;31mKeyboardInterrupt\u001b[0m                         Traceback (most recent call last)",
            "\u001b[0;32m<ipython-input-30-4526878f9a5a>\u001b[0m in \u001b[0;36m<cell line: 1>\u001b[0;34m()\u001b[0m\n\u001b[1;32m      9\u001b[0m         \u001b[0moutputs\u001b[0m \u001b[0;34m=\u001b[0m \u001b[0mmodel\u001b[0m\u001b[0;34m(\u001b[0m\u001b[0minputs\u001b[0m\u001b[0;34m)\u001b[0m\u001b[0;34m\u001b[0m\u001b[0;34m\u001b[0m\u001b[0m\n\u001b[1;32m     10\u001b[0m         \u001b[0mloss\u001b[0m \u001b[0;34m=\u001b[0m \u001b[0mcriterion\u001b[0m\u001b[0;34m(\u001b[0m\u001b[0moutputs\u001b[0m\u001b[0;34m,\u001b[0m \u001b[0mlabels\u001b[0m\u001b[0;34m)\u001b[0m\u001b[0;34m\u001b[0m\u001b[0;34m\u001b[0m\u001b[0m\n\u001b[0;32m---> 11\u001b[0;31m         \u001b[0mloss\u001b[0m\u001b[0;34m.\u001b[0m\u001b[0mbackward\u001b[0m\u001b[0;34m(\u001b[0m\u001b[0;34m)\u001b[0m\u001b[0;34m\u001b[0m\u001b[0;34m\u001b[0m\u001b[0m\n\u001b[0m\u001b[1;32m     12\u001b[0m         \u001b[0moptimizer\u001b[0m\u001b[0;34m.\u001b[0m\u001b[0mstep\u001b[0m\u001b[0;34m(\u001b[0m\u001b[0;34m)\u001b[0m\u001b[0;34m\u001b[0m\u001b[0;34m\u001b[0m\u001b[0m\n\u001b[1;32m     13\u001b[0m \u001b[0;34m\u001b[0m\u001b[0m\n",
            "\u001b[0;32m/usr/local/lib/python3.10/dist-packages/torch/_tensor.py\u001b[0m in \u001b[0;36mbackward\u001b[0;34m(self, gradient, retain_graph, create_graph, inputs)\u001b[0m\n\u001b[1;32m    579\u001b[0m                 \u001b[0minputs\u001b[0m\u001b[0;34m=\u001b[0m\u001b[0minputs\u001b[0m\u001b[0;34m,\u001b[0m\u001b[0;34m\u001b[0m\u001b[0;34m\u001b[0m\u001b[0m\n\u001b[1;32m    580\u001b[0m             )\n\u001b[0;32m--> 581\u001b[0;31m         torch.autograd.backward(\n\u001b[0m\u001b[1;32m    582\u001b[0m             \u001b[0mself\u001b[0m\u001b[0;34m,\u001b[0m \u001b[0mgradient\u001b[0m\u001b[0;34m,\u001b[0m \u001b[0mretain_graph\u001b[0m\u001b[0;34m,\u001b[0m \u001b[0mcreate_graph\u001b[0m\u001b[0;34m,\u001b[0m \u001b[0minputs\u001b[0m\u001b[0;34m=\u001b[0m\u001b[0minputs\u001b[0m\u001b[0;34m\u001b[0m\u001b[0;34m\u001b[0m\u001b[0m\n\u001b[1;32m    583\u001b[0m         )\n",
            "\u001b[0;32m/usr/local/lib/python3.10/dist-packages/torch/autograd/__init__.py\u001b[0m in \u001b[0;36mbackward\u001b[0;34m(tensors, grad_tensors, retain_graph, create_graph, grad_variables, inputs)\u001b[0m\n\u001b[1;32m    345\u001b[0m     \u001b[0;31m# some Python versions print out the first line of a multi-line function\u001b[0m\u001b[0;34m\u001b[0m\u001b[0;34m\u001b[0m\u001b[0m\n\u001b[1;32m    346\u001b[0m     \u001b[0;31m# calls in the traceback and some print out the last line\u001b[0m\u001b[0;34m\u001b[0m\u001b[0;34m\u001b[0m\u001b[0m\n\u001b[0;32m--> 347\u001b[0;31m     _engine_run_backward(\n\u001b[0m\u001b[1;32m    348\u001b[0m         \u001b[0mtensors\u001b[0m\u001b[0;34m,\u001b[0m\u001b[0;34m\u001b[0m\u001b[0;34m\u001b[0m\u001b[0m\n\u001b[1;32m    349\u001b[0m         \u001b[0mgrad_tensors_\u001b[0m\u001b[0;34m,\u001b[0m\u001b[0;34m\u001b[0m\u001b[0;34m\u001b[0m\u001b[0m\n",
            "\u001b[0;32m/usr/local/lib/python3.10/dist-packages/torch/autograd/graph.py\u001b[0m in \u001b[0;36m_engine_run_backward\u001b[0;34m(t_outputs, *args, **kwargs)\u001b[0m\n\u001b[1;32m    823\u001b[0m         \u001b[0munregister_hooks\u001b[0m \u001b[0;34m=\u001b[0m \u001b[0m_register_logging_hooks_on_whole_graph\u001b[0m\u001b[0;34m(\u001b[0m\u001b[0mt_outputs\u001b[0m\u001b[0;34m)\u001b[0m\u001b[0;34m\u001b[0m\u001b[0;34m\u001b[0m\u001b[0m\n\u001b[1;32m    824\u001b[0m     \u001b[0;32mtry\u001b[0m\u001b[0;34m:\u001b[0m\u001b[0;34m\u001b[0m\u001b[0;34m\u001b[0m\u001b[0m\n\u001b[0;32m--> 825\u001b[0;31m         return Variable._execution_engine.run_backward(  # Calls into the C++ engine to run the backward pass\n\u001b[0m\u001b[1;32m    826\u001b[0m             \u001b[0mt_outputs\u001b[0m\u001b[0;34m,\u001b[0m \u001b[0;34m*\u001b[0m\u001b[0margs\u001b[0m\u001b[0;34m,\u001b[0m \u001b[0;34m**\u001b[0m\u001b[0mkwargs\u001b[0m\u001b[0;34m\u001b[0m\u001b[0;34m\u001b[0m\u001b[0m\n\u001b[1;32m    827\u001b[0m         )  # Calls into the C++ engine to run the backward pass\n",
            "\u001b[0;31mKeyboardInterrupt\u001b[0m: "
          ]
        }
      ]
    }
  ]
}